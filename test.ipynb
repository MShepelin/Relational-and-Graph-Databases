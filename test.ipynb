{
 "cells": [
  {
   "cell_type": "code",
   "execution_count": 1,
   "metadata": {},
   "outputs": [
    {
     "name": "stdout",
     "output_type": "stream",
     "text": [
      "BEGIN TRANSACTION;\n",
      "INSERT INTO Letter(unicode) VALUES('d'),('e'),('ç'),('à'),('ç'),('à');\n",
      "INSERT INTO IsDiactricOf(diactric_letter_id,original_letter_id) SELECT L1.letter_id AS diactric_letter_id, L2.letter_id AS original_letter_id FROM letter AS L1 INNER JOIN letter AS L2 where (L1.unicode='ç' and L2.unicode='c') or (L1.unicode='à' and L2.unicode='a');\n",
      "INSERT INTO WordCore(word,length,last_letter_id) SELECT \"{word}\", {len(word)}, T.id FROM Letter AS T WHERE symbol = '{word[-1]}';\n",
      "INSERT INTO Contains(word_id,letter_id) SELECT W.id, L.id FROM WordCore AS W, Letter AS L WHERE (W.word='deçà' and L.unicode='d') or (W.word='deçà' and L.unicode='e') or (W.word='deçà' and L.unicode='ç') or (W.word='deçà' and L.unicode='à');\n",
      "INSERT INTO GoesAfter(letter_before_id, letter_after_id) SELECT L1.letter_id AS letter_before_id, L2.letter_id AS letter_after_id FROM letter AS L1 INNER JOIN letter AS L2 where (L1.unicode='d' and L2.unicode='e') or (L1.unicode='e' and L2.unicode='ç') or (L1.unicode='ç' and L2.unicode='à');\n",
      "END TRANSACTION;\n"
     ]
    }
   ],
   "source": [
    "from helpers import generate_word_addition\n",
    "print(generate_word_addition(\"deçà\"))"
   ]
  }
 ],
 "metadata": {
  "kernelspec": {
   "display_name": "Python 3",
   "language": "python",
   "name": "python3"
  },
  "language_info": {
   "codemirror_mode": {
    "name": "ipython",
    "version": 3
   },
   "file_extension": ".py",
   "mimetype": "text/x-python",
   "name": "python",
   "nbconvert_exporter": "python",
   "pygments_lexer": "ipython3",
   "version": "3.7.4"
  },
  "orig_nbformat": 4
 },
 "nbformat": 4,
 "nbformat_minor": 2
}
