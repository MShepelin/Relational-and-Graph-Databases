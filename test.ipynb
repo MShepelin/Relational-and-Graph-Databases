{
 "cells": [
  {
   "cell_type": "code",
   "execution_count": 4,
   "metadata": {},
   "outputs": [
    {
     "name": "stdout",
     "output_type": "stream",
     "text": [
      "The autoreload extension is already loaded. To reload it, use:\n",
      "  %reload_ext autoreload\n"
     ]
    }
   ],
   "source": [
    "%load_ext autoreload\n",
    "%autoreload 2\n",
    "from helpers import generate_word_addition, generate_graph_word_addition"
   ]
  },
  {
   "cell_type": "code",
   "execution_count": 13,
   "metadata": {},
   "outputs": [
    {
     "name": "stdout",
     "output_type": "stream",
     "text": [
      "MERGE\n",
      "  (deçà:WordCore {word:'deçà', length:4}),\n",
      "  (d:Letter {unicode:'d'}),\n",
      "  (e:Letter {unicode:'e'}),\n",
      "  (ç:Letter {unicode:'ç'}),\n",
      "  (à:Letter {unicode:'à'}),\n",
      "  (c:Letter {unicode:'c'}),\n",
      "  (a:Letter {unicode:'a'});\n",
      "MATCH (word:WordCore WHERE word.word='deçà'), (letter:Letter WHERE letter.unicode='à') MERGE (word)-[:EndsWith]->(letter));\n",
      "MATCH (deçà:WordCore WHERE deçà.word='deçà'), (d:Letter WHERE d.unicode='d') MERGE (deçà)<-[:Contains]->(d));\n",
      "MATCH (deçà:WordCore WHERE deçà.word='deçà'), (e:Letter WHERE e.unicode='e') MERGE (deçà)<-[:Contains]->(e));\n",
      "MATCH (deçà:WordCore WHERE deçà.word='deçà'), (ç:Letter WHERE ç.unicode='ç') MERGE (deçà)<-[:Contains]->(ç));\n",
      "MATCH (deçà:WordCore WHERE deçà.word='deçà'), (à:Letter WHERE à.unicode='à') MERGE (deçà)<-[:Contains]->(à));\n",
      "MATCH (d:Letter WHERE d.letter='d'), (e:Letter WHERE e.letter='e')CREATE (e)-[:GoesAfter]->(d));\n",
      "MATCH (e:Letter WHERE e.letter='e'), (ç:Letter WHERE ç.letter='ç')CREATE (ç)-[:GoesAfter]->(e));\n",
      "MATCH (ç:Letter WHERE ç.letter='ç'), (à:Letter WHERE à.letter='à')CREATE (à)-[:GoesAfter]->(ç));\n",
      "MATCH (ç:WordCore WHERE ç.unicode='ç'), (c:Letter WHERE c.unicode='c') MERGE (ç)-[:IsDiactricOf]->(c));\n",
      "MATCH (à:WordCore WHERE à.unicode='à'), (a:Letter WHERE a.unicode='a') MERGE (à)-[:IsDiactricOf]->(a))\n"
     ]
    }
   ],
   "source": [
    "%reload_ext autoreload\n",
    "print(generate_graph_word_addition(\"deçà\"))"
   ]
  }
 ],
 "metadata": {
  "kernelspec": {
   "display_name": "Python 3",
   "language": "python",
   "name": "python3"
  },
  "language_info": {
   "codemirror_mode": {
    "name": "ipython",
    "version": 3
   },
   "file_extension": ".py",
   "mimetype": "text/x-python",
   "name": "python",
   "nbconvert_exporter": "python",
   "pygments_lexer": "ipython3",
   "version": "3.7.4"
  },
  "orig_nbformat": 4
 },
 "nbformat": 4,
 "nbformat_minor": 2
}
