{
 "cells": [
  {
   "cell_type": "code",
   "execution_count": 4,
   "metadata": {},
   "outputs": [
    {
     "name": "stdout",
     "output_type": "stream",
     "text": [
      "The autoreload extension is already loaded. To reload it, use:\n",
      "  %reload_ext autoreload\n"
     ]
    }
   ],
   "source": [
    "%load_ext autoreload\n",
    "%autoreload 2\n",
    "from helpers import generate_word_addition, generate_graph_word_addition"
   ]
  },
  {
   "cell_type": "code",
   "execution_count": 14,
   "metadata": {},
   "outputs": [
    {
     "name": "stdout",
     "output_type": "stream",
     "text": [
      "BEGIN TRANSACTION;\n",
      "WITH inputvalues(unicode) AS (VALUES('d'),('e'),('ç'),('à'),('c'),('a')) INSERT INTO Letter(unicode) SELECT d.unicode FROM inputvalues AS d WHERE NOT EXISTS SELECT 1 FROM Letter WHERE Letter.unicode = d.unicode;\n",
      "INSERT INTO IsDiactricOf(diactric_letter_id,original_letter_id) SELECT L1.letter_id AS diactric_letter_id, L2.letter_id AS original_letter_id FROM Letter AS L1 INNER JOIN Letter AS L2 WHERE (L1.unicode='ç' and L2.unicode='c') or (L1.unicode='à' and L2.unicode='a');\n",
      "INSERT INTO WordCore(word,length,last_letter_id) SELECT \"deçà\", 4, T.letter_id FROM Letter AS T WHERE unicode = 'à';\n",
      "INSERT INTO Contains(word_id,letter_id) SELECT W.word_id, L.letter_id FROM WordCore AS W, Letter AS L WHERE (W.word='deçà' and L.unicode='d') or (W.word='deçà' and L.unicode='e') or (W.word='deçà' and L.unicode='ç') or (W.word='deçà' and L.unicode='à');\n",
      "INSERT INTO GoesAfter(letter_before_id, letter_after_id) SELECT L1.letter_id AS letter_before_id, L2.letter_id AS letter_after_id FROM Letter AS L1 INNER JOIN Letter AS L2 WHERE (L1.unicode='e' and L2.unicode='d') or (L1.unicode='ç' and L2.unicode='e') or (L1.unicode='à' and L2.unicode='ç');\n",
      "END TRANSACTION;\n"
     ]
    }
   ],
   "source": [
    "%reload_ext autoreload\n",
    "print(generate_word_addition(\"deçà\"))"
   ]
  }
 ],
 "metadata": {
  "kernelspec": {
   "display_name": "Python 3",
   "language": "python",
   "name": "python3"
  },
  "language_info": {
   "codemirror_mode": {
    "name": "ipython",
    "version": 3
   },
   "file_extension": ".py",
   "mimetype": "text/x-python",
   "name": "python",
   "nbconvert_exporter": "python",
   "pygments_lexer": "ipython3",
   "version": "3.7.4"
  },
  "orig_nbformat": 4
 },
 "nbformat": 4,
 "nbformat_minor": 2
}
